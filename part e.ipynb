{
 "cells": [
  {
   "cell_type": "code",
   "execution_count": 2,
   "metadata": {},
   "outputs": [
    {
     "ename": "SyntaxError",
     "evalue": "invalid syntax (<ipython-input-2-114dafabf972>, line 1)",
     "output_type": "error",
     "traceback": [
      "\u001b[0;36m  File \u001b[0;32m\"<ipython-input-2-114dafabf972>\"\u001b[0;36m, line \u001b[0;32m1\u001b[0m\n\u001b[0;31m    drop table if exists Items;\u001b[0m\n\u001b[0m         ^\u001b[0m\n\u001b[0;31mSyntaxError\u001b[0m\u001b[0;31m:\u001b[0m invalid syntax\n"
     ]
    }
   ],
   "source": [
    "drop table if exists userInfo;\n",
    "drop table if exists itemInfo;\n",
    "drop table if exists BidInfo;\n",
    "drop table if exists catBidInfo;\n",
    "\n",
    "\n",
    "create table userInfo (\n",
    "UserID INT NOT NULL UNIQUE,\n",
    "Rating INT NOT NULL,\n",
    "Location VARCHAR(255) NOT NULL,\n",
    "Country VARCHAR(255) NOT NULL,\n",
    "PRIMARY KEY (UserID),\n",
    "isSeller NUMBER(1),\n",
    "isBuyer NUMBER(1),\n",
    "#FOREIGN KEY UserID REFERENCES Item (ItemID),\n",
    "FOREIGN KEY UserID REFERENCES BidInfo (BidID)\n",
    ");\n",
    "\n",
    "#isSeller,isBuyer are boolean types\n",
    "\n",
    "create table itemInfo (\n",
    "ItemID INT NOT NULL UNIQUE,\n",
    "Name VARCHAR(255) NOT NULL,\n",
    "CategoryNum INT NOT NULL,\n",
    "Currently DOUBLE,\n",
    "FirstBid DOUBLE,\n",
    "NumberBids INT,\n",
    "Location VARCHAR(255) NOT NULL\n",
    "Country VARCHAR(255) NOT NULL\n",
    "Started DATE NOT NULL,\n",
    "Ended DATE NOT NULL,\n",
    "Seller VARCHAR(225) NOT NULL,\n",
    "Buy_Price DOUBLE,\n",
    "FOREIGN KEY Seller REFERENCES userInfo(UserID),\n",
    "PRIMARY KEY (ItemID)\n",
    ");\n",
    "\n",
    "# create table Categories (\n",
    "# CategoryID INT NOT NULL UNIQUE,\n",
    "# Name VARCHAR(255) NOT NULL,\n",
    "# PRIMARY KEY (CategoryID)\n",
    "# );\n",
    "\n",
    "# create table ItemCategories (\n",
    "# ItemID INT NOT NULL UNIQUE,\n",
    "# CategoryID INT NOT NULL UNIQUE,\n",
    "# PRIMARY KEY (ItemID, CategoryID),\n",
    "# FOREIGN KEY (ItemID) REFERENCES Item (ItemID),\n",
    "# FOREIGN KEY (CategoryID) REFERENCES Category (CategoryID)\n",
    "# );\n",
    "\n",
    "#tempItemID,tempID,tempRating,tempLocation,tempCountry,tempTime,tempAmoun\n",
    "create table BidInfo (\n",
    "#BidID INT NOT NULL UNIQUE,\n",
    "ItemID INT NOT NULL UNIQUE,\n",
    "UserID INT NOT NULL UNIQUE,\n",
    "Location VARCHAR(225) NOT NULL,\n",
    "Country VARCHAR(225) NOT NULL,\n",
    "Time DATE NOT NULL,\n",
    "Amount DOUBLE NOT NULL,\n",
    "PRIMARY KEY (ItemID),\n",
    "FOREIGN KEY ItemID REFERENCES Item (ItemID),\n",
    "FOREIGN KEY UserID REFERENCES User (UserID)\n",
    ");\n",
    "\n",
    "create table catBidInfo(\n",
    "aCateg VARCHAR(225) NOT NULL,\n",
    "Amount INT NOT NULL UNIQUE,\n",
    "ID INT NOT NULL UNIQUE\n",
    ");\n",
    "\n",
    "\n"
   ]
  },
  {
   "cell_type": "code",
   "execution_count": null,
   "metadata": {},
   "outputs": [],
   "source": []
  }
 ],
 "metadata": {
  "kernelspec": {
   "display_name": "Python 3",
   "language": "python",
   "name": "python3"
  },
  "language_info": {
   "codemirror_mode": {
    "name": "ipython",
    "version": 3
   },
   "file_extension": ".py",
   "mimetype": "text/x-python",
   "name": "python",
   "nbconvert_exporter": "python",
   "pygments_lexer": "ipython3",
   "version": "3.8.5"
  }
 },
 "nbformat": 4,
 "nbformat_minor": 4
}
